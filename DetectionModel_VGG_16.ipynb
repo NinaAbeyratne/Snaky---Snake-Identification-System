{
  "cells": [
    {
      "cell_type": "markdown",
      "metadata": {
        "id": "view-in-github",
        "colab_type": "text"
      },
      "source": [
        "<a href=\"https://colab.research.google.com/github/NinaAbeyratne/Snaky---Snake-Identification-System/blob/Nina/DetectionModel_VGG_16.ipynb\" target=\"_parent\"><img src=\"https://colab.research.google.com/assets/colab-badge.svg\" alt=\"Open In Colab\"/></a>"
      ]
    },
    {
      "cell_type": "code",
      "execution_count": 14,
      "id": "3001bbf1-0724-40d6-9e6b-a8c538b23ede",
      "metadata": {
        "id": "3001bbf1-0724-40d6-9e6b-a8c538b23ede"
      },
      "outputs": [],
      "source": [
        "import cv2\n",
        "import os\n",
        "from matplotlib import pyplot as plt\n",
        "import numpy as np\n",
        "from sklearn.preprocessing import LabelEncoder\n",
        "from sklearn.model_selection import train_test_split\n",
        "import tensorflow as tf\n",
        "from tensorflow.keras.utils import to_categorical\n",
        "from tensorflow.keras import layers, models, optimizers\n",
        "from tensorflow.keras.applications import VGG19\n",
        "from google.colab import drive"
      ]
    },
    {
      "cell_type": "code",
      "source": [
        "drive.mount(\"/content/drive\", force_remount=True)"
      ],
      "metadata": {
        "colab": {
          "base_uri": "https://localhost:8080/"
        },
        "id": "oGLUGs9hC8gj",
        "outputId": "8d10a071-a2d1-411e-905d-7746c3262c25"
      },
      "id": "oGLUGs9hC8gj",
      "execution_count": 15,
      "outputs": [
        {
          "output_type": "stream",
          "name": "stdout",
          "text": [
            "Mounted at /content/drive\n"
          ]
        }
      ]
    },
    {
      "cell_type": "code",
      "execution_count": 16,
      "id": "e54895b0-97de-428d-8c96-7354b295107b",
      "metadata": {
        "id": "e54895b0-97de-428d-8c96-7354b295107b"
      },
      "outputs": [],
      "source": [
        "# Main directory where model data is saved\n",
        "mainDataDirectory = \"/content/drive/MyDrive/DSGP Group 24/Dataset/Model_Data\""
      ]
    },
    {
      "cell_type": "code",
      "execution_count": 17,
      "id": "ab5aa6a7-dea8-4192-b3be-61461f677ba5",
      "metadata": {
        "id": "ab5aa6a7-dea8-4192-b3be-61461f677ba5"
      },
      "outputs": [],
      "source": [
        "# Categories of image classification\n",
        "imageCategories = [\"yes\", \"no\"]\n",
        "\n",
        "# Directories for training and testing data\n",
        "trainDirectory = os.path.join(mainDataDirectory, 'Train')\n",
        "testDirectory = os.path.join(mainDataDirectory, 'Test')"
      ]
    },
    {
      "cell_type": "code",
      "execution_count": 18,
      "id": "90c50070-915b-4be8-a111-9ea3205bc930",
      "metadata": {
        "id": "90c50070-915b-4be8-a111-9ea3205bc930"
      },
      "outputs": [],
      "source": [
        "# Function to read images from a directory and add labels to each image\n",
        "def read_images_from_directory(directory):\n",
        "    images = []\n",
        "    labels = []\n",
        "    for category in imageCategories:\n",
        "        category_path = os.path.join(directory, category)\n",
        "        label = imageCategories.index(category)\n",
        "\n",
        "        for filename in os.listdir(category_path):\n",
        "            image_path = os.path.join(category_path, filename)\n",
        "            image = cv2.imread(image_path)\n",
        "            images.append(image)\n",
        "            if label == 0:\n",
        "                labels.append(\"no\")\n",
        "            elif label == 1:\n",
        "                labels.append(\"yes\")\n",
        "    return images, labels"
      ]
    },
    {
      "cell_type": "code",
      "execution_count": 19,
      "id": "66804a8c-f853-46b4-add6-86e529311aec",
      "metadata": {
        "id": "66804a8c-f853-46b4-add6-86e529311aec"
      },
      "outputs": [],
      "source": [
        "# Read training images\n",
        "train_x, train_y = read_images_from_directory(trainDirectory)\n",
        "\n",
        "# Read testing images\n",
        "test_x, test_y = read_images_from_directory(testDirectory)\n",
        "\n",
        "# Convert the lists to numpy arrays\n",
        "train_x = np.array(train_x)\n",
        "train_y = np.array(train_y)\n",
        "test_x = np.array(test_x)\n",
        "test_y = np.array(test_y)"
      ]
    },
    {
      "cell_type": "code",
      "execution_count": 20,
      "id": "4fc59ff8-2cc3-4cb1-87d5-83e558e50a1a",
      "metadata": {
        "colab": {
          "base_uri": "https://localhost:8080/"
        },
        "id": "4fc59ff8-2cc3-4cb1-87d5-83e558e50a1a",
        "outputId": "3f506602-bfab-4824-c566-c7260e1a8f47"
      },
      "outputs": [
        {
          "output_type": "execute_result",
          "data": {
            "text/plain": [
              "(3984, 224, 224, 3)"
            ]
          },
          "metadata": {},
          "execution_count": 20
        }
      ],
      "source": [
        "# Checking for the number of data\n",
        "train_x.shape"
      ]
    },
    {
      "cell_type": "code",
      "execution_count": 21,
      "id": "b01ab0d3-f883-49fe-a8ff-aad2d8c74930",
      "metadata": {
        "colab": {
          "base_uri": "https://localhost:8080/"
        },
        "id": "b01ab0d3-f883-49fe-a8ff-aad2d8c74930",
        "outputId": "3dad386c-7bad-4bac-e4ec-fc687483d6c1"
      },
      "outputs": [
        {
          "output_type": "execute_result",
          "data": {
            "text/plain": [
              "(997, 224, 224, 3)"
            ]
          },
          "metadata": {},
          "execution_count": 21
        }
      ],
      "source": [
        "test_x.shape"
      ]
    },
    {
      "cell_type": "code",
      "execution_count": 22,
      "id": "09cfb6eb-ae13-42d5-bbda-461192d61ba2",
      "metadata": {
        "colab": {
          "base_uri": "https://localhost:8080/"
        },
        "id": "09cfb6eb-ae13-42d5-bbda-461192d61ba2",
        "outputId": "54b3bb6b-d598-47e0-8f5d-a2c9cb16b2a3"
      },
      "outputs": [
        {
          "output_type": "execute_result",
          "data": {
            "text/plain": [
              "array(['no', 'yes'], dtype='<U3')"
            ]
          },
          "metadata": {},
          "execution_count": 22
        }
      ],
      "source": [
        "# Checking the categories in the dataset\n",
        "np.unique(train_y)"
      ]
    },
    {
      "cell_type": "code",
      "execution_count": 23,
      "id": "1473cee1-1862-4f13-a0d7-e61a0a2bf585",
      "metadata": {
        "id": "1473cee1-1862-4f13-a0d7-e61a0a2bf585"
      },
      "outputs": [],
      "source": [
        "# Map string labels to integer labels inorder for the model to read the data in integer format\n",
        "label_mapping = {'no': 0, 'yes': 1}\n",
        "\n",
        "# Convert string labels to integer labels\n",
        "train_y = [label_mapping[label] for label in train_y]\n",
        "test_y = [label_mapping[label] for label in test_y]\n",
        "\n",
        "# Convert labels to one-hot encoded format\n",
        "train_y_one_hot = to_categorical(train_y, num_classes=2)\n",
        "test_y_one_hot = to_categorical(test_y, num_classes=2)"
      ]
    },
    {
      "cell_type": "code",
      "execution_count": 24,
      "id": "513931a5-a623-4604-9467-64ba8698cec3",
      "metadata": {
        "colab": {
          "base_uri": "https://localhost:8080/"
        },
        "id": "513931a5-a623-4604-9467-64ba8698cec3",
        "outputId": "33490ada-b4f1-4f45-dae3-cbac4d34f132"
      },
      "outputs": [
        {
          "output_type": "stream",
          "name": "stdout",
          "text": [
            "Downloading data from https://storage.googleapis.com/tensorflow/keras-applications/vgg19/vgg19_weights_tf_dim_ordering_tf_kernels_notop.h5\n",
            "80134624/80134624 [==============================] - 4s 0us/step\n",
            "Epoch 1/10\n",
            "249/249 [==============================] - 26s 101ms/step - loss: 2.8280 - accuracy: 0.9260 - val_loss: 0.3051 - val_accuracy: 0.9509\n",
            "Epoch 2/10\n",
            "249/249 [==============================] - 25s 101ms/step - loss: 0.2327 - accuracy: 0.9684 - val_loss: 0.3365 - val_accuracy: 0.9619\n",
            "Epoch 3/10\n",
            "249/249 [==============================] - 24s 98ms/step - loss: 0.1922 - accuracy: 0.9729 - val_loss: 0.1552 - val_accuracy: 0.9699\n",
            "Epoch 4/10\n",
            "249/249 [==============================] - 24s 97ms/step - loss: 0.0717 - accuracy: 0.9852 - val_loss: 0.2996 - val_accuracy: 0.9679\n",
            "Epoch 5/10\n",
            "249/249 [==============================] - 24s 98ms/step - loss: 0.1678 - accuracy: 0.9804 - val_loss: 0.1270 - val_accuracy: 0.9729\n",
            "Epoch 6/10\n",
            "249/249 [==============================] - 25s 100ms/step - loss: 0.0822 - accuracy: 0.9854 - val_loss: 0.2479 - val_accuracy: 0.9639\n",
            "Epoch 7/10\n",
            "249/249 [==============================] - 24s 98ms/step - loss: 0.0606 - accuracy: 0.9887 - val_loss: 0.3477 - val_accuracy: 0.9629\n",
            "Epoch 8/10\n",
            "249/249 [==============================] - 24s 98ms/step - loss: 0.0824 - accuracy: 0.9869 - val_loss: 0.2351 - val_accuracy: 0.9709\n",
            "Epoch 9/10\n",
            "249/249 [==============================] - 24s 98ms/step - loss: 0.0605 - accuracy: 0.9862 - val_loss: 0.2485 - val_accuracy: 0.9669\n",
            "Epoch 10/10\n",
            "249/249 [==============================] - 25s 100ms/step - loss: 0.0857 - accuracy: 0.9862 - val_loss: 0.4999 - val_accuracy: 0.9659\n"
          ]
        }
      ],
      "source": [
        "\n",
        "# Loading the vgg16 model and setting up the image size to train\n",
        "base_model = VGG19(weights='imagenet', include_top=False, input_shape=(224, 224, 3))\n",
        "\n",
        "# Freeze the layers\n",
        "for layer in base_model.layers:\n",
        "    layer.trainable = False\n",
        "\n",
        "# Build the model\n",
        "model = models.Sequential()\n",
        "model.add(base_model)\n",
        "model.add(layers.Flatten())\n",
        "model.add(layers.Dense(256, activation='relu'))\n",
        "model.add(layers.Dropout(0.5))\n",
        "model.add(layers.Dense(2, activation='sigmoid'))\n",
        "\n",
        "# Compile the model\n",
        "model.compile(optimizer='adam', loss='categorical_crossentropy', metrics=['accuracy'])\n",
        "\n",
        "# Train the model\n",
        "history = model.fit(train_x, train_y_one_hot, epochs=10, batch_size=16, validation_data=(test_x, test_y_one_hot))\n"
      ]
    },
    {
      "cell_type": "code",
      "execution_count": 25,
      "id": "8cfe3efb-90c3-4782-b410-e07baf7252b5",
      "metadata": {
        "colab": {
          "base_uri": "https://localhost:8080/"
        },
        "id": "8cfe3efb-90c3-4782-b410-e07baf7252b5",
        "outputId": "2bb9061f-b0a0-4e8f-b20d-4d6512ea2592"
      },
      "outputs": [
        {
          "output_type": "stream",
          "name": "stderr",
          "text": [
            "/usr/local/lib/python3.10/dist-packages/keras/src/engine/training.py:3103: UserWarning: You are saving your model as an HDF5 file via `model.save()`. This file format is considered legacy. We recommend using instead the native Keras format, e.g. `model.save('my_model.keras')`.\n",
            "  saving_api.save_model(\n"
          ]
        }
      ],
      "source": [
        "# Save the model\n",
        "model.save('/content/drive/MyDrive/DSGP Group 24/Dataset/Model/NinaModel_VGG-19.h5')"
      ]
    },
    {
      "cell_type": "code",
      "execution_count": 26,
      "id": "ed73cec6-79f5-41f8-a6af-8159af89dafb",
      "metadata": {
        "colab": {
          "base_uri": "https://localhost:8080/"
        },
        "id": "ed73cec6-79f5-41f8-a6af-8159af89dafb",
        "outputId": "f8ac2f44-ba52-4189-d4e9-9c906a331db6"
      },
      "outputs": [
        {
          "output_type": "stream",
          "name": "stdout",
          "text": [
            "Model: \"sequential_1\"\n",
            "_________________________________________________________________\n",
            " Layer (type)                Output Shape              Param #   \n",
            "=================================================================\n",
            " vgg19 (Functional)          (None, 7, 7, 512)         20024384  \n",
            "                                                                 \n",
            " flatten_1 (Flatten)         (None, 25088)             0         \n",
            "                                                                 \n",
            " dense_2 (Dense)             (None, 256)               6422784   \n",
            "                                                                 \n",
            " dropout_1 (Dropout)         (None, 256)               0         \n",
            "                                                                 \n",
            " dense_3 (Dense)             (None, 2)                 514       \n",
            "                                                                 \n",
            "=================================================================\n",
            "Total params: 26447682 (100.89 MB)\n",
            "Trainable params: 6423298 (24.50 MB)\n",
            "Non-trainable params: 20024384 (76.39 MB)\n",
            "_________________________________________________________________\n"
          ]
        }
      ],
      "source": [
        "model.summary()"
      ]
    },
    {
      "cell_type": "code",
      "execution_count": 26,
      "id": "bb3ca3c8-f902-44f2-ae06-c399ff05b4a1",
      "metadata": {
        "id": "bb3ca3c8-f902-44f2-ae06-c399ff05b4a1"
      },
      "outputs": [],
      "source": []
    }
  ],
  "metadata": {
    "kernelspec": {
      "display_name": "Python 3",
      "name": "python3"
    },
    "language_info": {
      "codemirror_mode": {
        "name": "ipython",
        "version": 3
      },
      "file_extension": ".py",
      "mimetype": "text/x-python",
      "name": "python",
      "nbconvert_exporter": "python",
      "pygments_lexer": "ipython3",
      "version": "3.9.18"
    },
    "colab": {
      "provenance": [],
      "gpuType": "T4",
      "include_colab_link": true
    },
    "accelerator": "GPU"
  },
  "nbformat": 4,
  "nbformat_minor": 5
}