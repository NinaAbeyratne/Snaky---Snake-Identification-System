{
  "nbformat": 4,
  "nbformat_minor": 0,
  "metadata": {
    "colab": {
      "provenance": [],
      "authorship_tag": "ABX9TyPOHG7JjOo1Q9YBf93PwKUC",
      "include_colab_link": true
    },
    "kernelspec": {
      "name": "python3",
      "display_name": "Python 3"
    },
    "language_info": {
      "name": "python"
    }
  },
  "cells": [
    {
      "cell_type": "markdown",
      "metadata": {
        "id": "view-in-github",
        "colab_type": "text"
      },
      "source": [
        "<a href=\"https://colab.research.google.com/github/NinaAbeyratne/Snaky---Snake-Identification-System/blob/Nina/Pre_process_Pit_Viper_test.ipynb\" target=\"_parent\"><img src=\"https://colab.research.google.com/assets/colab-badge.svg\" alt=\"Open In Colab\"/></a>"
      ]
    },
    {
      "cell_type": "code",
      "execution_count": 15,
      "metadata": {
        "colab": {
          "base_uri": "https://localhost:8080/"
        },
        "id": "Ypg-9n1nl3kQ",
        "outputId": "fbaee741-136a-47bc-e4b0-562691e13ae9"
      },
      "outputs": [
        {
          "output_type": "stream",
          "name": "stdout",
          "text": [
            "Mounted at /content/drive\n",
            "Preprocessing and renaming complete.\n"
          ]
        }
      ],
      "source": [
        "import cv2\n",
        "import numpy as np\n",
        "import os\n",
        "from google.colab import drive\n",
        "\n",
        "# Mounting the Google Drive\n",
        "drive.mount(\"/content/drive\", force_remount=True)\n",
        "\n",
        "# Define paths\n",
        "data_dir = \"/content/drive/MyDrive/DSGP Group 24/Dataset/Sri Lankan Green Pit Viper\"\n",
        "output_dir = \"/content/drive/MyDrive/DSGP Group 24/Dataset/Pre-processed Sri Lankan Green Pit Viper\"\n",
        "\n",
        "# Create output directory if it doesn't exist\n",
        "if not os.path.exists(output_dir):\n",
        "    os.makedirs(output_dir)\n",
        "\n",
        "# Function to preprocess images\n",
        "def preprocess_image(image_path, output_path, target_size=(224, 224)):\n",
        "    # Read image in BGR format\n",
        "    image = cv2.imread(image_path)\n",
        "\n",
        "    # Convert BGR to RGB\n",
        "    image = cv2.cvtColor(image, cv2.COLOR_BGR2RGB)\n",
        "\n",
        "    # Resize image\n",
        "    image = cv2.resize(image, target_size)\n",
        "\n",
        "    # Convert to float32\n",
        "    image = image.astype(np.float32)\n",
        "\n",
        "    # Normalize pixel values to range [0, 1]\n",
        "    image /= 255.0\n",
        "\n",
        "    # Multiply by 255 to bring pixel values to [0, 255]\n",
        "    image *= 255.0\n",
        "\n",
        "    # Convert back to BGR before saving\n",
        "    image = cv2.cvtColor(image, cv2.COLOR_RGB2BGR)\n",
        "\n",
        "    # Save preprocessed image\n",
        "    # cv2.imwrite(output_path, image, [cv2.IMWRITE_PNG_COMPRESSION, 9])\n",
        "    cv2.imwrite(output_path, image, [cv2.IMWRITE_JPEG_QUALITY, 100])\n",
        "\n",
        "    # for loseless image quality but it gives larger files.\n",
        "    # cv2.imwrite(output_path, image, [cv2.IMWRITE_PNG_COMPRESSION, 0])\n",
        "\n",
        "\n",
        "\n",
        "# Function to preprocess and rename images\n",
        "def preprocess_and_rename_images(data_dir, output_dir, target_size=(224, 224)):\n",
        "    # Create output directory if it doesn't exist\n",
        "    if not os.path.exists(output_dir):\n",
        "        os.makedirs(output_dir)\n",
        "\n",
        "    # Iterate through each image in the dataset directory\n",
        "    for i, filename in enumerate(os.listdir(data_dir)):\n",
        "        if filename.endswith(\".jpg\") or filename.endswith(\".png\"):  # Adjust file extensions as needed\n",
        "            # Generate a new filename based on the index\n",
        "            new_filename = f\"Sri_Lankan_Green_Pit_Viper_{i + 1}.jpg\"  # You can customize the naming pattern\n",
        "\n",
        "            image_path = os.path.join(data_dir, filename)\n",
        "            output_path = os.path.join(output_dir, new_filename)\n",
        "\n",
        "            # Preprocess and save the image\n",
        "            preprocess_image(image_path, output_path, target_size)\n",
        "\n",
        "    print(\"Preprocessing and renaming complete.\")\n",
        "\n",
        "# Call the function to preprocess and rename images\n",
        "preprocess_and_rename_images(data_dir, output_dir)\n"
      ]
    }
  ]
}