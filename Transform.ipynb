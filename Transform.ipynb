{
  "cells": [
    {
      "cell_type": "markdown",
      "metadata": {
        "id": "view-in-github",
        "colab_type": "text"
      },
      "source": [
        "<a href=\"https://colab.research.google.com/github/NinaAbeyratne/Snaky---Snake-Identification-System/blob/Nina/Transform.ipynb\" target=\"_parent\"><img src=\"https://colab.research.google.com/assets/colab-badge.svg\" alt=\"Open In Colab\"/></a>"
      ]
    },
    {
      "cell_type": "code",
      "execution_count": null,
      "metadata": {
        "colab": {
          "base_uri": "https://localhost:8080/",
          "height": 250
        },
        "id": "PQfw4JUa-wJQ",
        "outputId": "3dd500c3-12f8-4860-c19d-ac6de5c22dda"
      },
      "outputs": [
        {
          "output_type": "error",
          "ename": "FileNotFoundError",
          "evalue": "[Errno 2] No such file or directory: '/content/drive/MyDrive/DSGP Group 24/Dataset/Sri Lankan Green Pit Viper/train'",
          "traceback": [
            "\u001b[0;31m---------------------------------------------------------------------------\u001b[0m",
            "\u001b[0;31mFileNotFoundError\u001b[0m                         Traceback (most recent call last)",
            "\u001b[0;32m<ipython-input-8-c34721e5da0b>\u001b[0m in \u001b[0;36m<cell line: 20>\u001b[0;34m()\u001b[0m\n\u001b[1;32m     18\u001b[0m \u001b[0;34m\u001b[0m\u001b[0m\n\u001b[1;32m     19\u001b[0m \u001b[0;31m# Split the data\u001b[0m\u001b[0;34m\u001b[0m\u001b[0;34m\u001b[0m\u001b[0m\n\u001b[0;32m---> 20\u001b[0;31m \u001b[0;32mfor\u001b[0m \u001b[0mfolder\u001b[0m \u001b[0;32min\u001b[0m \u001b[0mtqdm\u001b[0m\u001b[0;34m(\u001b[0m\u001b[0mos\u001b[0m\u001b[0;34m.\u001b[0m\u001b[0mlistdir\u001b[0m\u001b[0;34m(\u001b[0m\u001b[0;34m\"/content/drive/MyDrive/DSGP Group 24/Dataset/Sri Lankan Green Pit Viper/train\"\u001b[0m\u001b[0;34m)\u001b[0m\u001b[0;34m,\u001b[0m \u001b[0mdesc\u001b[0m\u001b[0;34m=\u001b[0m\u001b[0;34m'Folders'\u001b[0m\u001b[0;34m)\u001b[0m\u001b[0;34m:\u001b[0m\u001b[0;34m\u001b[0m\u001b[0;34m\u001b[0m\u001b[0m\n\u001b[0m\u001b[1;32m     21\u001b[0m     \u001b[0mcurr_path\u001b[0m \u001b[0;34m=\u001b[0m \u001b[0mos\u001b[0m\u001b[0;34m.\u001b[0m\u001b[0mpath\u001b[0m\u001b[0;34m.\u001b[0m\u001b[0mjoin\u001b[0m\u001b[0;34m(\u001b[0m\u001b[0;34m\"/content/drive/MyDrive/DSGP Group 24/Dataset/Sri Lankan Green Pit Viper/train\"\u001b[0m\u001b[0;34m,\u001b[0m \u001b[0mfolder\u001b[0m\u001b[0;34m)\u001b[0m\u001b[0;34m\u001b[0m\u001b[0;34m\u001b[0m\u001b[0m\n\u001b[1;32m     22\u001b[0m     \u001b[0mimages\u001b[0m \u001b[0;34m=\u001b[0m \u001b[0mos\u001b[0m\u001b[0;34m.\u001b[0m\u001b[0mlistdir\u001b[0m\u001b[0;34m(\u001b[0m\u001b[0mcurr_path\u001b[0m\u001b[0;34m)\u001b[0m\u001b[0;34m\u001b[0m\u001b[0;34m\u001b[0m\u001b[0m\n",
            "\u001b[0;31mFileNotFoundError\u001b[0m: [Errno 2] No such file or directory: '/content/drive/MyDrive/DSGP Group 24/Dataset/Sri Lankan Green Pit Viper/train'"
          ]
        }
      ],
      "source": [
        "import os\n",
        "from shutil import copyfile\n",
        "from tqdm import tqdm\n",
        "from PIL import Image\n",
        "\n",
        "# Directories\n",
        "directories = ['/content/drive/MyDrive/DSGP Group 24/Dataset/train',\n",
        "               '/content/drive/MyDrive/DSGP Group 24/Dataset/val',\n",
        "               '/content/drive/MyDrive/DSGP Group 24/Dataset/test']\n",
        "\n",
        "# Create directories if they don't exist\n",
        "for d in directories:\n",
        "    if not os.path.exists(d):\n",
        "        os.makedirs(d)\n",
        "\n",
        "# Fractions for splitting\n",
        "fractions = {'train': 0.7, 'val': 0.15, 'test': 0.15}\n",
        "\n",
        "# Split the data\n",
        "for folder in tqdm(os.listdir(\"/content/drive/MyDrive/DSGP Group 24/Dataset/Sri Lankan Green Pit Viper/train\"), desc='Folders'):\n",
        "    curr_path = os.path.join(\"/content/drive/MyDrive/DSGP Group 24/Dataset/Sri Lankan Green Pit Viper/train\", folder)\n",
        "    images = os.listdir(curr_path)\n",
        "    num_images = len(images)\n",
        "\n",
        "    for i in tqdm(range(num_images), leave=False, desc=folder):\n",
        "        if i <= (num_images * fractions['train']):\n",
        "            copyfile(os.path.join(curr_path, images[i]), os.path.join(directories[0], folder, images[i]))\n",
        "        elif i <= (num_images * (fractions['train'] + fractions['val'])):\n",
        "            copyfile(os.path.join(curr_path, images[i]), os.path.join(directories[1], folder, images[i]))\n",
        "        else:\n",
        "            copyfile(os.path.join(curr_path, images[i]), os.path.join(directories[2], folder, images[i]))\n",
        "\n",
        "# Verify images and remove broken images\n",
        "for root in directories:\n",
        "    for i in os.listdir(root):\n",
        "        for j in os.listdir(os.path.join(root, i)):\n",
        "            try:\n",
        "                img = Image.open(os.path.join(root, i, j))\n",
        "                img.verify()\n",
        "            except (IOError, SyntaxError) as e:\n",
        "                if os.path.exists(os.path.join(root, i, j)):\n",
        "                    os.remove(os.path.join(root, i, j))\n"
      ]
    }
  ],
  "metadata": {
    "colab": {
      "provenance": [],
      "authorship_tag": "ABX9TyMqsw1pbULMKzT1jfm91IMq",
      "include_colab_link": true
    },
    "kernelspec": {
      "display_name": "Python 3",
      "name": "python3"
    },
    "language_info": {
      "name": "python"
    }
  },
  "nbformat": 4,
  "nbformat_minor": 0
}